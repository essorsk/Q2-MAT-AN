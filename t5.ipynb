{
 "cells": [
  {
   "cell_type": "code",
   "execution_count": 1,
   "metadata": {},
   "outputs": [],
   "source": [
    "import numpy as np\n",
    "import matplotlib.pyplot as plt\n",
    "%matplotlib inline"
   ]
  },
  {
   "cell_type": "markdown",
   "metadata": {},
   "source": [
    "#### 5.1. 1.\tВектор – это частный случай матрицы 1хN и Nх1. Повторите материал для векторов, уделяя особое внимание умножению A∙B.\n"
   ]
  },
  {
   "cell_type": "raw",
   "metadata": {},
   "source": [
    "a[1xN]= [2,4,5,1]\n",
    "b[Nx1] = [1,\n",
    "          2,\n",
    "          1,\n",
    "          3]\n",
    "c = a * 3 = [6, 12, 15, 3]\n",
    "c - a = [4, 8, 10, 2]\n",
    "\n",
    "b * a = [[2, 4, 5, 1],\n",
    "        [4, 8,10, 2],\n",
    "        [2, 4, 5, 1],\n",
    "        [6, 12, 15, 3]]\n",
    "a * b = [2*1 + 4*2 +5*1 + 1*3] = [18]"
   ]
  },
  {
   "cell_type": "markdown",
   "metadata": {},
   "source": [
    "#### 2.\tВычислите, по возможности не используя программирование: (5Е)–1, где Е – единичная матрица размера 5х5."
   ]
  },
  {
   "cell_type": "raw",
   "metadata": {},
   "source": [
    "Обратная матрица, эта та, при умножении на которую, получается единичная матрица.\n",
    "Если исходная матрица единичная, то чтобы в результате получить единичную матрицу, ее нужно умножить на такую же единичную матрицу.\n",
    "Итого: Обратная матрица:\n",
    "      [[1., 0., 0., 0., 0.],\n",
    "       [0., 1., 0., 0., 0.],\n",
    "       [0., 0., 1., 0., 0.],\n",
    "       [0., 0., 0., 1., 0.],\n",
    "       [0., 0., 0., 0., 1.]]"
   ]
  },
  {
   "cell_type": "markdown",
   "metadata": {},
   "source": [
    "#### 5.2. Вычислите определитель:"
   ]
  },
  {
   "cell_type": "code",
   "execution_count": 3,
   "metadata": {},
   "outputs": [
    {
     "data": {
      "text/plain": [
       "array([[1, 2, 3],\n",
       "       [4, 0, 6],\n",
       "       [7, 8, 9]])"
      ]
     },
     "execution_count": 3,
     "metadata": {},
     "output_type": "execute_result"
    }
   ],
   "source": [
    "m = np.array([[1, 2, 3], [4, 0, 6], [7, 8, 9]])\n",
    "m"
   ]
  },
  {
   "cell_type": "markdown",
   "metadata": {},
   "source": [
    "det = 1 *(0 -6 *8) - 2 * (4*9 - 6*7) + 3 *(4*8 -0) = 60"
   ]
  },
  {
   "cell_type": "code",
   "execution_count": 4,
   "metadata": {},
   "outputs": [
    {
     "data": {
      "text/plain": [
       "59.999999999999986"
      ]
     },
     "execution_count": 4,
     "metadata": {},
     "output_type": "execute_result"
    }
   ],
   "source": [
    "np.linalg.det(m)"
   ]
  },
  {
   "cell_type": "markdown",
   "metadata": {},
   "source": [
    "#### 5.3. 1. Вычислите матрицу, обратную данной:"
   ]
  },
  {
   "cell_type": "code",
   "execution_count": 6,
   "metadata": {},
   "outputs": [],
   "source": [
    "A = np.array([[1, 2, 3], \n",
    "              [4, 0, 6], \n",
    "              [7, 8, 9]])"
   ]
  },
  {
   "cell_type": "raw",
   "metadata": {},
   "source": [
    "Minor = [[-48, 4*9 -6*7, 32],[18- 3*8,9-21,8-14,[12, 6-12,-8]] =\n",
    "= [[-48, -6, 32],\n",
    "    [-6, -12, -6],\n",
    "    [12, -6, -8]]"
   ]
  },
  {
   "cell_type": "raw",
   "metadata": {},
   "source": [
    "Alg = [[-48, 6, 32], \n",
    "        [6, -12, 6],\n",
    "        [12, 6, -8]]"
   ]
  },
  {
   "cell_type": "raw",
   "metadata": {},
   "source": [
    "AlgT = [[-48, 6, 12],\n",
    "       [6, -12, 6],\n",
    "       [32, 6, -8]]"
   ]
  },
  {
   "cell_type": "raw",
   "metadata": {},
   "source": [
    "Ar= AlgT / det = AlgT /60 = [[-0.8, 0.1, 0.2],\n",
    "                             [0.1, -0.2, 0.1],\n",
    "                             [0.53, 0.1, -0.13]]"
   ]
  },
  {
   "cell_type": "code",
   "execution_count": 7,
   "metadata": {},
   "outputs": [],
   "source": [
    "R = np.array([[-0.8, 0.1, 0.2],\n",
    "                [0.1, -0.2, 0.1],\n",
    "                [0.53, 0.1, -0.13]])"
   ]
  },
  {
   "cell_type": "code",
   "execution_count": 15,
   "metadata": {},
   "outputs": [
    {
     "data": {
      "text/plain": [
       "array([[ 0.99,  0.  ,  0.01],\n",
       "       [-0.02,  1.  ,  0.02],\n",
       "       [-0.03,  0.  ,  1.03]])"
      ]
     },
     "execution_count": 15,
     "metadata": {},
     "output_type": "execute_result"
    }
   ],
   "source": [
    "np.dot(A,R)"
   ]
  },
  {
   "cell_type": "markdown",
   "metadata": {},
   "source": [
    "#### 2. Приведите пример матрицы 4х4, ранг которой равен 1."
   ]
  },
  {
   "cell_type": "code",
   "execution_count": 23,
   "metadata": {},
   "outputs": [
    {
     "data": {
      "text/plain": [
       "1"
      ]
     },
     "execution_count": 23,
     "metadata": {},
     "output_type": "execute_result"
    }
   ],
   "source": [
    "s = np.array([[0,0,0,0],\n",
    "             [0,5,0,0],\n",
    "             [0,0,0,0],\n",
    "             [0,0,0,0]])\n",
    "np.linalg.matrix_rank(s, 0.0001)"
   ]
  },
  {
   "cell_type": "markdown",
   "metadata": {},
   "source": [
    "#### 5.4. Вычислите скалярное произведение двух векторов:  \n",
    "#### (1, 5)  и  (2, 8)\n"
   ]
  },
  {
   "cell_type": "markdown",
   "metadata": {},
   "source": [
    "a * b = x1*x2 + y1*y2 = 2 + 5*8 = 42"
   ]
  },
  {
   "cell_type": "code",
   "execution_count": 25,
   "metadata": {},
   "outputs": [
    {
     "data": {
      "text/plain": [
       "42.0"
      ]
     },
     "execution_count": 25,
     "metadata": {},
     "output_type": "execute_result"
    }
   ],
   "source": [
    "a = np.array([1, 5], float)\n",
    "b = np.array([2, 8], float)\n",
    "np.dot(a, b)"
   ]
  },
  {
   "cell_type": "markdown",
   "metadata": {},
   "source": [
    "#### 5.5 Вычислите смешанное произведение трех векторов:\n",
    "#### (1, 5, 0), (2, 8, 7) и (7, 1.5, 3) \n"
   ]
  },
  {
   "cell_type": "code",
   "execution_count": 2,
   "metadata": {},
   "outputs": [
    {
     "name": "stdout",
     "output_type": "stream",
     "text": [
      "228.5\n"
     ]
    }
   ],
   "source": [
    "a = np.array([1, 5, 0], float)\n",
    "b = np.array([2, 8, 7], float)\n",
    "c = np.array([7, 1.5, 3], float)\n",
    "v = np.cross(a, b)\n",
    "print(np.inner(v, c))"
   ]
  },
  {
   "cell_type": "code",
   "execution_count": null,
   "metadata": {},
   "outputs": [],
   "source": []
  },
  {
   "cell_type": "code",
   "execution_count": null,
   "metadata": {},
   "outputs": [],
   "source": []
  },
  {
   "cell_type": "code",
   "execution_count": null,
   "metadata": {},
   "outputs": [],
   "source": []
  }
 ],
 "metadata": {
  "kernelspec": {
   "display_name": "Python 3",
   "language": "python",
   "name": "python3"
  },
  "language_info": {
   "codemirror_mode": {
    "name": "ipython",
    "version": 3
   },
   "file_extension": ".py",
   "mimetype": "text/x-python",
   "name": "python",
   "nbconvert_exporter": "python",
   "pygments_lexer": "ipython3",
   "version": "3.7.3"
  }
 },
 "nbformat": 4,
 "nbformat_minor": 2
}
